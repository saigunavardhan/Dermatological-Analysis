{
 "cells": [
  {
   "cell_type": "code",
   "execution_count": 12,
   "id": "53a6355c",
   "metadata": {},
   "outputs": [
    {
     "name": "stdout",
     "output_type": "stream",
     "text": [
      "enter pigmentation value of image 10.003\n",
      "enter Area value of image 10.003\n",
      "Pig = 13.898079649185771\n",
      "Ar = 13.898079649185771\n",
      "cat = 18.4051848293757\n",
      "f1 = 15.326455227197362\n",
      "Nf1 =  8.080909516998352\n",
      "Low risk\n",
      "enter pigmentation value of image 20.999\n",
      "enter Area value of image 20.999\n",
      "Pig1 = 4.001446244245082\n",
      "Ar1 = 4.001446244245082\n",
      "cat2 = 4.001446244245082\n",
      "f2 = 3.9974447980008376\n",
      "Nf2 =  1.0002779987505237\n",
      "Severe\n"
     ]
    }
   ],
   "source": [
    "import math\n",
    "W1 = 0.453 #category\n",
    "W2 = 0.226 #Area\n",
    "W3 = 0.320 #Pigmentation\n",
    "#image 1\n",
    "Pig = float(input(\"enter pigmentation value of image 1\"))\n",
    "formula = 10 - (math.log(((Pig-0.001954)/(1-0.001954))*64))/math.log(2)\n",
    "Ar = float(input (\"enter Area value of image 1\"))\n",
    "formula1 = 10 - (math.log(((Ar-0.001954)/(1-0.001954))*64))/math.log(2)\n",
    "cat = 0.002\n",
    "formula11 = 10 - (math.log(((cat-0.001954)/(1-0.001954))*64))/math.log(2)\n",
    "print(\"Pig =\" , formula)\n",
    "print(\"Ar =\" , formula1)\n",
    "print(\"cat =\", formula11)\n",
    "formulaf1 = (formula*W1)+(formula1*W2)+(formula11*W3)\n",
    "print(\"f1 =\" , formulaf1)\n",
    "\n",
    "finalranki1 = (formulaf1 - 3.997)*0.625 + 1\n",
    "print(\"Nf1 = \" , finalranki1)\n",
    "\n",
    "if finalranki1 <= 10 and finalranki1>8:\n",
    "    print(\"Low risk\")\n",
    "elif finalranki1 <= 8 and finalranki1>4.5:\n",
    "    print(\"Moderate\")\n",
    "else:\n",
    "    print(\"Severe\")\n",
    "\n",
    "#image2\n",
    "Pig1 = float(input(\"enter pigmentation value of image 2\"))\n",
    "formula2 = 10 - (math.log(((Pig1-0.001954)/(1-0.001954))*64))/math.log(2)\n",
    "Ar1 = float(input (\"enter Area value of image 2\"))\n",
    "formula3 = 10 - (math.log(((Ar1-0.001954)/(1-0.001954))*64))/math.log(2)\n",
    "cat2 = 0.999\n",
    "formula12 = 10 - (math.log(((cat2-0.001954)/(1-0.001954))*64))/math.log(2)\n",
    "print(\"Pig1 =\" , formula2)\n",
    "print(\"Ar1 =\" , formula3)\n",
    "print(\"cat2 =\", formula12)\n",
    "formulaf2 = (formula2*W1)+(formula3*W2)+(formula12*W3)\n",
    "print(\"f2 =\" , formulaf2)\n",
    "\n",
    "finalranki2 = (formulaf2 - 3.997)*0.625 + 1\n",
    "print(\"Nf2 = \" , finalranki2)\n",
    "\n",
    "if finalranki2 <= 10 and finalranki2>8:\n",
    "    print(\"Low risk\")\n",
    "elif finalranki2 <= 8 and finalranki2>4.5:\n",
    "    print(\"Moderate\")\n",
    "else:\n",
    "    print(\"Severe\")"
   ]
  },
  {
   "cell_type": "code",
   "execution_count": null,
   "id": "0d140a78",
   "metadata": {},
   "outputs": [],
   "source": []
  }
 ],
 "metadata": {
  "kernelspec": {
   "display_name": "Python 3 (ipykernel)",
   "language": "python",
   "name": "python3"
  },
  "language_info": {
   "codemirror_mode": {
    "name": "ipython",
    "version": 3
   },
   "file_extension": ".py",
   "mimetype": "text/x-python",
   "name": "python",
   "nbconvert_exporter": "python",
   "pygments_lexer": "ipython3",
   "version": "3.9.12"
  }
 },
 "nbformat": 4,
 "nbformat_minor": 5
}
